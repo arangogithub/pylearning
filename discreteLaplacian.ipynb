{
 "cells": [
  {
   "cell_type": "markdown",
   "metadata": {},
   "source": [
    "# Discrete Laplacian\n",
    "--------------------\n",
    "\n",
    "We solve the discrete Dirichlet problem \n",
    "$$ \\mathcal{L} F(x) = 0, \\quad x \\in A $$ subjet to the (discrete) boundary condition\n",
    "$$ F(x) = G(x), \\quad x \\in \\partial A, $$\n",
    "where $A \\subset Z^d$ is finite, $G$ is given and ${\\mathcal{L}}$ is the discrete laplacian given by\n",
    "$$ \\mathcal{L} F(x)= \\frac{1}{2d}\\sum_{y\\in A, |x-y|=1}(F(y)-F(x)).$$ Equivalently\n",
    "$$ \\mathcal{L} = Q - I$$ where\n",
    "$$ QF(x) =  \\frac{1}{2d}\\sum_{y\\in A, |x-y|=1}F(y).$$\n",
    "\n"
   ]
  },
  {
   "cell_type": "code",
   "execution_count": 1,
   "metadata": {
    "collapsed": true
   },
   "outputs": [],
   "source": [
    "%matplotlib inline\n",
    "import numpy as np\n",
    "import matplotlib.pyplot as plt\n",
    "from ipython_animated_array import AnimateArray\n",
    "import vizarray \n",
    "# pip install ipython-animated-array"
   ]
  },
  {
   "cell_type": "markdown",
   "metadata": {},
   "source": [
    "## The set $\\bar{A}:$\n",
    "\n",
    "Asume that\n",
    "$$ \\bar{A} = \\{ x_0, \\cdots, x_{N-1}\\}$$"
   ]
  },
  {
   "cell_type": "code",
   "execution_count": 2,
   "metadata": {
    "collapsed": false
   },
   "outputs": [],
   "source": [
    "tol = 10**(-4)\n",
    "d = 2.0\n",
    "from itertools import product\n",
    "bl1 =  list(product([0, 1,2,3, 4, 5],repeat = 2))\n",
    "bl2 = list(product([0, 1,2,3],[6,7,8]))\n",
    "block =bl1+bl2\n",
    "block.remove((0,8))\n",
    "block.remove((3,8))\n",
    "block.remove((0,0))\n",
    "block.remove((5,0))\n",
    "block.remove((5,5))\n",
    "clA = np.array(block)\n",
    "npoints = len(clA)"
   ]
  },
  {
   "cell_type": "code",
   "execution_count": 3,
   "metadata": {
    "collapsed": false
   },
   "outputs": [
    {
     "data": {
      "text/plain": [
       "<matplotlib.collections.PathCollection at 0x7f9afbd11790>"
      ]
     },
     "execution_count": 3,
     "metadata": {},
     "output_type": "execute_result"
    },
    {
     "data": {
      "image/png": "[encoded data removed]",
      "text/plain": [
       "<matplotlib.figure.Figure at 0x7f9afbd0ea10>"
      ]
     },
     "metadata": {},
     "output_type": "display_data"
    }
   ],
   "source": [
    "x_list = [x for [x, y] in clA]\n",
    "y_list = [y for [x, y] in clA]\n",
    "plt.axis('equal')\n",
    "plt.scatter(x_list, y_list, marker='o', color='r')"
   ]
  },
  {
   "cell_type": "markdown",
   "metadata": {},
   "source": [
    "## Construction of Q"
   ]
  },
  {
   "cell_type": "code",
   "execution_count": 4,
   "metadata": {
    "collapsed": false
   },
   "outputs": [
    {
     "data": {
      "text/plain": [
       "array([ 1.,  0.,  1.,  2.,  3.,  3.,  2.,  1.,  2.,  3.,  4.,  4.,  3.,\n",
       "        2.,  3.,  4.,  5.,  5.,  4.,  3.,  4.,  5.,  6.,  6.,  5.,  4.,\n",
       "        5.,  6.,  7.,  6.,  5.,  6.,  7.,  4.,  5.,  5.,  6.,  7.,  6.,\n",
       "        7.,  8.,  7.,  8.])"
      ]
     },
     "execution_count": 4,
     "metadata": {},
     "output_type": "execute_result"
    }
   ],
   "source": [
    "diff =clA.reshape(npoints,1,2) - clA\n",
    "diff = np.sqrt((diff**2)).sum(2)\n",
    "#ii = range(npoints)\n",
    "#D[ii, ii] = np.inf \n",
    "diff[1,:]"
   ]
  },
  {
   "cell_type": "code",
   "execution_count": 5,
   "metadata": {
    "collapsed": false
   },
   "outputs": [],
   "source": [
    "def Qbuild(r):\n",
    "    if np.abs(r-1)< tol: return 1/(2*d)\n",
    "    else: return 0.0 \n",
    "    \n",
    "Qbuild = np.vectorize(Qbuild, otypes=[np.float])\n",
    "\n",
    "Q = Qbuild(diff)\n",
    "\n",
    "sum_colQ = Q.sum(axis=1)\n",
    "#sum_col"
   ]
  },
  {
   "cell_type": "markdown",
   "metadata": {},
   "source": [
    "Notice that $Q$ is not a Markov matrix. Below is the heat map of $Q$"
   ]
  },
  {
   "cell_type": "code",
   "execution_count": 6,
   "metadata": {
    "collapsed": false
   },
   "outputs": [
    {
     "data": {
      "text/plain": [
       "<matplotlib.colorbar.Colorbar instance at 0x7f9afbb3ce60>"
      ]
     },
     "execution_count": 6,
     "metadata": {},
     "output_type": "execute_result"
    },
    {
     "data": {
      "image/png": "[encoded data removed]",
      "text/plain": [
       "<matplotlib.figure.Figure at 0x7f9afbd0e450>"
      ]
     },
     "metadata": {},
     "output_type": "display_data"
    }
   ],
   "source": [
    "fig = plt.figure()\n",
    "ax = fig.add_subplot(111)\n",
    "cax= ax.matshow(Q,  cmap=plt.cm.Spectral_r)\n",
    "fig.colorbar(cax)"
   ]
  },
  {
   "cell_type": "markdown",
   "metadata": {},
   "source": [
    "As a byproduct of constructing $Q$ we could identifiy the boundary points of $A.$  \n",
    "   \n",
    "   $y_i\\in \\bar{A}$ is a boundary point iff \n",
    "   $$ \\sum_jQ(i,j)<1$$"
   ]
  },
  {
   "cell_type": "code",
   "execution_count": 7,
   "metadata": {
    "collapsed": false
   },
   "outputs": [],
   "source": [
    "mask = sum_colQ < 1\n",
    "cmask = abs(sum_colQ - 1) <  tol\n",
    "b_idx = np.where(mask)\n",
    "a_inx = np.where(cmask)\n",
    "bndA = clA[b_idx]\n",
    "A = clA[a_inx]"
   ]
  },
  {
   "cell_type": "code",
   "execution_count": 8,
   "metadata": {
    "collapsed": false
   },
   "outputs": [
    {
     "data": {
      "text/plain": [
       "<matplotlib.collections.PathCollection at 0x7f9afba3a5d0>"
      ]
     },
     "execution_count": 8,
     "metadata": {},
     "output_type": "execute_result"
    },
    {
     "data": {
      "image/png": "[encoded data removed]",
      "text/plain": [
       "<matplotlib.figure.Figure at 0x7f9afba94950>"
      ]
     },
     "metadata": {},
     "output_type": "display_data"
    }
   ],
   "source": [
    "xb_list = [x for [x, y] in bndA]\n",
    "yb_list = [y for [x, y] in bndA]\n",
    "xa_list = [x for [x, y] in A]\n",
    "ya_list = [y for [x, y] in A]\n",
    "plt.axis('equal')\n",
    "plt.scatter(xa_list, ya_list, marker='o', color='r')\n",
    "plt.scatter(xb_list, yb_list, marker='*', color='k')"
   ]
  },
  {
   "cell_type": "markdown",
   "metadata": {},
   "source": [
    "# Construction of Laplace operator"
   ]
  },
  {
   "cell_type": "code",
   "execution_count": 9,
   "metadata": {
    "collapsed": false
   },
   "outputs": [],
   "source": [
    "Q[mask] = 0\n",
    "Id = np.identity(npoints)\n",
    "Lpl = Q - Id\n",
    "Lpl[b_idx,b_idx]=1.0"
   ]
  },
  {
   "cell_type": "code",
   "execution_count": 10,
   "metadata": {
    "collapsed": false
   },
   "outputs": [
    {
     "data": {
      "text/plain": [
       "<matplotlib.colorbar.Colorbar instance at 0x7f9afb8f40e0>"
      ]
     },
     "execution_count": 10,
     "metadata": {},
     "output_type": "execute_result"
    },
    {
     "data": {
      "image/png": "[encoded data removed]",
      "text/plain": [
       "<matplotlib.figure.Figure at 0x7f9afbd0e550>"
      ]
     },
     "metadata": {},
     "output_type": "display_data"
    }
   ],
   "source": [
    "fig = plt.figure()\n",
    "ax = fig.add_subplot(111)\n",
    "cax= ax.matshow(Lpl,  cmap=plt.cm.Spectral_r)\n",
    "fig.colorbar(cax)"
   ]
  },
  {
   "cell_type": "markdown",
   "metadata": {},
   "source": [
    "# Dirichlet Problem"
   ]
  },
  {
   "cell_type": "code",
   "execution_count": 11,
   "metadata": {
    "collapsed": false
   },
   "outputs": [
    {
     "data": {
      "text/plain": [
       "array([  0.,   0.,   0.,   0.,   0.,   0.,   1.,   2.,   3.,   4.,   5.,\n",
       "         0.,   2.,   4.,   6.,   8.,  10.,   0.,   3.,   6.,   9.,  12.,\n",
       "        15.,   0.,   4.,   8.,  12.,  16.,  20.,   5.,  10.,  15.,  20.,\n",
       "         0.,   0.,   6.,   7.,   8.,  12.,  14.,  16.,  18.,  21.])"
      ]
     },
     "execution_count": 11,
     "metadata": {},
     "output_type": "execute_result"
    }
   ],
   "source": [
    "def Gbuild(x):\n",
    "    a, b = x[0], x[1]\n",
    "    return a*b\n",
    "\n",
    "Gb = np.array([Gbuild(x) for x in bndA])\n",
    "\n",
    "G = np.zeros(npoints)\n",
    "G[mask] = Gb\n",
    "np.linalg.solve(Lpl,G)"
   ]
  },
  {
   "cell_type": "markdown",
   "metadata": {},
   "source": [
    "# Simulation of a random  walks starting in $\\bar{A}$"
   ]
  },
  {
   "cell_type": "code",
   "execution_count": 31,
   "metadata": {
    "collapsed": false
   },
   "outputs": [],
   "source": [
    "check_bp = dict()\n",
    "for y in range(npoints):\n",
    "    if y in b_idx[0]: check_bp[y]= 1\n",
    "    else: check_bp[y]= 0"
   ]
  },
  {
   "cell_type": "code",
   "execution_count": 32,
   "metadata": {
    "collapsed": false
   },
   "outputs": [],
   "source": [
    "Q[b_idx,b_idx]=1.0"
   ]
  },
  {
   "cell_type": "code",
   "execution_count": 33,
   "metadata": {
    "collapsed": true
   },
   "outputs": [],
   "source": [
    "def next_step(x):\n",
    "    pdf = Q[x,:]\n",
    "    return np.random.choice(npoints,1, p=pdf)[0]"
   ]
  },
  {
   "cell_type": "code",
   "execution_count": 129,
   "metadata": {
    "collapsed": false
   },
   "outputs": [],
   "source": [
    "def poisson_kernel(x):\n",
    "    pk = dict()\n",
    "    for i in range(10*npoints):\n",
    "        chk, z = 0, x\n",
    "        while chk < 1:\n",
    "            z = next_step(z)\n",
    "            chk = check_bp[z]\n",
    "            if chk == 1: pk[z]= pk.get(z,0) +1\n",
    "    return pk"
   ]
  },
  {
   "cell_type": "code",
   "execution_count": 130,
   "metadata": {
    "collapsed": true
   },
   "outputs": [],
   "source": [
    "def stochastic_solution(x):\n",
    "    pk = poisson_kernel(x)\n",
    "    key, val  = G[np.array(pk.keys())], np.array(pk.values())\n",
    "    s = val.sum()\n",
    "    return (key*val).sum()/s"
   ]
  },
  {
   "cell_type": "code",
   "execution_count": 131,
   "metadata": {
    "collapsed": false
   },
   "outputs": [
    {
     "name": "stdout",
     "output_type": "stream",
     "text": [
      "CPU times: user 93.6 ms, sys: 4.03 ms, total: 97.6 ms\n",
      "Wall time: 93.9 ms\n"
     ]
    },
    {
     "data": {
      "text/plain": [
       "11.495348837209303"
      ]
     },
     "execution_count": 131,
     "metadata": {},
     "output_type": "execute_result"
    }
   ],
   "source": [
    "%time stochastic_solution(21)"
   ]
  },
  {
   "cell_type": "code",
   "execution_count": 132,
   "metadata": {
    "collapsed": false
   },
   "outputs": [
    {
     "name": "stdout",
     "output_type": "stream",
     "text": [
      "CPU times: user 145 µs, sys: 1e+03 ns, total: 146 µs\n",
      "Wall time: 143 µs\n"
     ]
    },
    {
     "data": {
      "text/plain": [
       "12.0"
      ]
     },
     "execution_count": 132,
     "metadata": {},
     "output_type": "execute_result"
    }
   ],
   "source": [
    "% time np.linalg.solve(Lpl,G)[21]"
   ]
  },
  {
   "cell_type": "code",
   "execution_count": 136,
   "metadata": {
    "collapsed": true
   },
   "outputs": [],
   "source": [
    "def orbit(x):\n",
    "    orb = []\n",
    "    chk, z, pdf = 0, x, Q[x,:]\n",
    "    while chk < 1:\n",
    "            z = next_step(z)\n",
    "            chk = check_bp[z]\n",
    "            orb.append(z)\n",
    "    return orb"
   ]
  },
  {
   "cell_type": "code",
   "execution_count": 143,
   "metadata": {
    "collapsed": false
   },
   "outputs": [
    {
     "data": {
      "text/plain": [
       "array([[3, 3, 3, 4, 5],\n",
       "       [3, 2, 1, 1, 1]])"
      ]
     },
     "execution_count": 143,
     "metadata": {},
     "output_type": "execute_result"
    }
   ],
   "source": [
    "clA[orbit(21)].T"
   ]
  },
  {
   "cell_type": "code",
   "execution_count": 144,
   "metadata": {
    "collapsed": false
   },
   "outputs": [
    {
     "data": {
      "text/plain": [
       "array([[2, 2, 2, 2, 1, 0],\n",
       "       [4, 5, 6, 5, 5, 5]])"
      ]
     },
     "execution_count": 144,
     "metadata": {},
     "output_type": "execute_result"
    }
   ],
   "source": [
    "wlk =clA[orbit(21)].T\n",
    "wlk"
   ]
  },
  {
   "cell_type": "code",
   "execution_count": 145,
   "metadata": {
    "collapsed": false
   },
   "outputs": [
    {
     "data": {
      "text/plain": [
       "[<matplotlib.lines.Line2D at 0x7f9afb6bcd10>]"
      ]
     },
     "execution_count": 145,
     "metadata": {},
     "output_type": "execute_result"
    },
    {
     "data": {
      "image/png": "[encoded data removed]",
      "text/plain": [
       "<matplotlib.figure.Figure at 0x7f9afb75cf10>"
      ]
     },
     "metadata": {},
     "output_type": "display_data"
    }
   ],
   "source": [
    "x_list = [x for [x, y] in block]\n",
    "y_list = [y for [x, y] in block]\n",
    "plt.axis('equal')\n",
    "plt.scatter(x_list, y_list, marker='o', color='r')\n",
    "plt.plot(wlk[0], wlk[1], color='k')"
   ]
  },
  {
   "cell_type": "markdown",
   "metadata": {},
   "source": [
    "# Heat map of the $Q$ matrix"
   ]
  },
  {
   "cell_type": "code",
   "execution_count": 146,
   "metadata": {
    "collapsed": true
   },
   "outputs": [],
   "source": [
    "def potence(n, M):\n",
    "    if n ==1: return M\n",
    "    else: return np.dot(M, potence(n-1,M))"
   ]
  },
  {
   "cell_type": "code",
   "execution_count": 149,
   "metadata": {
    "collapsed": false,
    "scrolled": true
   },
   "outputs": [
    {
     "data": {
      "text/plain": [
       "<matplotlib.colorbar.Colorbar instance at 0x7f9afb27e710>"
      ]
     },
     "execution_count": 149,
     "metadata": {},
     "output_type": "execute_result"
    },
    {
     "data": {
      "image/png": "[encoded data removed]",
      "text/plain": [
       "<matplotlib.figure.Figure at 0x7f9afb3d1c50>"
      ]
     },
     "metadata": {},
     "output_type": "display_data"
    }
   ],
   "source": [
    "fig = plt.figure()\n",
    "ax = fig.add_subplot(111)\n",
    "cax= ax.matshow(potence(18,Q),  cmap=plt.cm.Spectral_r)\n",
    "fig.colorbar(cax)"
   ]
  },
  {
   "cell_type": "code",
   "execution_count": null,
   "metadata": {
    "collapsed": true
   },
   "outputs": [],
   "source": []
  }
 ],
 "metadata": {
  "kernelspec": {
   "display_name": "Python 2",
   "language": "python",
   "name": "python2"
  },
  "language_info": {
   "codemirror_mode": {
    "name": "ipython",
    "version": 2
   },
   "file_extension": ".py",
   "mimetype": "text/x-python",
   "name": "python",
   "nbconvert_exporter": "python",
   "pygments_lexer": "ipython2",
   "version": "2.7.11"
  }
 },
 "nbformat": 4,
 "nbformat_minor": 0
}
